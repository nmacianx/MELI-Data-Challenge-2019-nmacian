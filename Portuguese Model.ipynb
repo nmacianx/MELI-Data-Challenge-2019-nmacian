{
 "cells": [
  {
   "cell_type": "markdown",
   "metadata": {
    "colab_type": "text",
    "id": "eDAXidfZ3x0M"
   },
   "source": [
    "## Setup"
   ]
  },
  {
   "cell_type": "markdown",
   "metadata": {
    "colab_type": "text",
    "id": "lPiW2a7eFktF"
   },
   "source": [
    "If executing in Colab: Before we start, we will select a GPU. 'Entorno de ejecución', 'Cambiar tipo de entrono de ejecución', 'Acelerador de hardware', '[GPU](https://medium.com/datadriveninvestor/comparing-gpu-and-tpu-training-performance-on-google-colaboratory-c1e54e26993f)'."
   ]
  },
  {
   "cell_type": "markdown",
   "metadata": {
    "colab_type": "text",
    "id": "oipWHTMfQBsL"
   },
   "source": [
    "### Necessary libraries and paths"
   ]
  },
  {
   "cell_type": "code",
   "execution_count": 0,
   "metadata": {
    "colab": {},
    "colab_type": "code",
    "id": "3B0oxCro80Ma"
   },
   "outputs": [],
   "source": [
    "from fastai.text import * \n",
    "from fastai.callbacks import *\n",
    "from sklearn.model_selection import train_test_split\n",
    "from pathlib import Path\n",
    "import pickle as pkl"
   ]
  },
  {
   "cell_type": "code",
   "execution_count": null,
   "metadata": {},
   "outputs": [],
   "source": [
    "import unicodedata\n",
    "import pandas as pd"
   ]
  },
  {
   "cell_type": "code",
   "execution_count": 0,
   "metadata": {
    "colab": {},
    "colab_type": "code",
    "id": "bp2qSgKk_Vhm"
   },
   "outputs": [],
   "source": [
    "SAMPLE = True\n",
    "PATH = Path('./sample') if SAMPLE else Path('.')\n",
    "PATH.mkdir(exist_ok=True)"
   ]
  },
  {
   "cell_type": "code",
   "execution_count": 0,
   "metadata": {
    "colab": {},
    "colab_type": "code",
    "id": "xloSfaU3fVy9"
   },
   "outputs": [],
   "source": [
    "MODELS_PATH = PATH / 'models'\n",
    "MODELS_PATH.mkdir(exist_ok=True)"
   ]
  },
  {
   "cell_type": "markdown",
   "metadata": {
    "colab_type": "text",
    "id": "a-L5VWQg98sQ"
   },
   "source": [
    "### Connect with Google Drive to download necessary files"
   ]
  },
  {
   "cell_type": "code",
   "execution_count": null,
   "metadata": {
    "colab": {
     "base_uri": "https://localhost:8080/",
     "height": 263
    },
    "colab_type": "code",
    "id": "kYs8jnGBKAjz",
    "outputId": "2fbfc7a5-14b2-4b90-9f5c-04b5a5bb5e86"
   },
   "outputs": [],
   "source": [
    "!pip install PyDrive"
   ]
  },
  {
   "cell_type": "code",
   "execution_count": 0,
   "metadata": {
    "colab": {},
    "colab_type": "code",
    "id": "SrUp69wnKEDk"
   },
   "outputs": [],
   "source": [
    "import os\n",
    "from pydrive.auth import GoogleAuth\n",
    "from pydrive.drive import GoogleDrive\n",
    "from google.colab import auth\n",
    "from oauth2client.client import GoogleCredentials"
   ]
  },
  {
   "cell_type": "code",
   "execution_count": 0,
   "metadata": {
    "colab": {},
    "colab_type": "code",
    "id": "2riBclDlKGWw"
   },
   "outputs": [],
   "source": [
    "auth.authenticate_user()\n",
    "gauth = GoogleAuth()\n",
    "gauth.credentials = GoogleCredentials.get_application_default()\n",
    "drive = GoogleDrive(gauth)"
   ]
  },
  {
   "cell_type": "code",
   "execution_count": null,
   "metadata": {
    "colab": {
     "base_uri": "https://localhost:8080/",
     "height": 55
    },
    "colab_type": "code",
    "id": "mwCQeQw3U9TM",
    "outputId": "03000c17-c6b4-4e85-f959-c3d72eefb7ed"
   },
   "outputs": [],
   "source": [
    "from google.colab import drive as storage\n",
    "storage.mount('/content/gdrive')"
   ]
  },
  {
   "cell_type": "markdown",
   "metadata": {
    "colab_type": "text",
    "id": "Y7cY2A0C3lQA"
   },
   "source": [
    "### Download training and test set"
   ]
  },
  {
   "cell_type": "code",
   "execution_count": 0,
   "metadata": {
    "colab": {},
    "colab_type": "code",
    "id": "rBBQT9HIfQal"
   },
   "outputs": [],
   "source": [
    "!mkdir models"
   ]
  },
  {
   "cell_type": "code",
   "execution_count": 0,
   "metadata": {
    "colab": {},
    "colab_type": "code",
    "id": "amyeY51UZO64"
   },
   "outputs": [],
   "source": [
    "download = drive.CreateFile({'id': '1_0Kgr-2Hfywiaq4b-OE0YLblVnnv0QL_'})\n",
    "download.GetContentFile(MODELS_PATH/'lm_enc.pth')"
   ]
  },
  {
   "cell_type": "code",
   "execution_count": 0,
   "metadata": {
    "colab": {},
    "colab_type": "code",
    "id": "wyXxUJ7lZjXs"
   },
   "outputs": [],
   "source": [
    "download = drive.CreateFile({'id': '1SSZ01bjf8_8xLboEBP2AFGTG5vslMpX2'})\n",
    "download.GetContentFile(PATH/'vocab_lm.pkl')"
   ]
  },
  {
   "cell_type": "markdown",
   "metadata": {
    "colab_type": "text",
    "id": "Ag-55Klf80Mo"
   },
   "source": [
    "## Preprocess training"
   ]
  },
  {
   "cell_type": "code",
   "execution_count": 0,
   "metadata": {
    "colab": {
     "base_uri": "https://localhost:8080/",
     "height": 254
    },
    "colab_type": "code",
    "id": "VO_2fwyZ8qv3",
    "outputId": "29032725-74c4-41ff-86da-c43a2e881c66"
   },
   "outputs": [
    {
     "data": {
      "text/html": [
       "<div>\n",
       "<style scoped>\n",
       "    .dataframe tbody tr th:only-of-type {\n",
       "        vertical-align: middle;\n",
       "    }\n",
       "\n",
       "    .dataframe tbody tr th {\n",
       "        vertical-align: top;\n",
       "    }\n",
       "\n",
       "    .dataframe thead th {\n",
       "        text-align: right;\n",
       "    }\n",
       "</style>\n",
       "<table border=\"1\" class=\"dataframe\">\n",
       "  <thead>\n",
       "    <tr style=\"text-align: right;\">\n",
       "      <th></th>\n",
       "      <th>title</th>\n",
       "      <th>label_quality</th>\n",
       "      <th>language</th>\n",
       "      <th>category</th>\n",
       "    </tr>\n",
       "  </thead>\n",
       "  <tbody>\n",
       "    <tr>\n",
       "      <th>0</th>\n",
       "      <td>pelicula vidro asus zenfone</td>\n",
       "      <td>reliable</td>\n",
       "      <td>portuguese</td>\n",
       "      <td>CELLPHONE_TABLET_AND_GPS_SCREEN_PROTECTORS</td>\n",
       "    </tr>\n",
       "    <tr>\n",
       "      <th>1</th>\n",
       "      <td>touch multilaser ms</td>\n",
       "      <td>reliable</td>\n",
       "      <td>portuguese</td>\n",
       "      <td>CELLPHONE_TABLET_AND_GPS_SCREEN_PROTECTORS</td>\n",
       "    </tr>\n",
       "    <tr>\n",
       "      <th>2</th>\n",
       "      <td>pelicula gel samsung pro celular top tela curva</td>\n",
       "      <td>reliable</td>\n",
       "      <td>portuguese</td>\n",
       "      <td>CELLPHONE_TABLET_AND_GPS_SCREEN_PROTECTORS</td>\n",
       "    </tr>\n",
       "    <tr>\n",
       "      <th>3</th>\n",
       "      <td>lcd frontal touch screen lente vidro samsung</td>\n",
       "      <td>reliable</td>\n",
       "      <td>portuguese</td>\n",
       "      <td>CELLPHONE_TABLET_AND_GPS_SCREEN_PROTECTORS</td>\n",
       "    </tr>\n",
       "    <tr>\n",
       "      <th>4</th>\n",
       "      <td>display lcd touch screen moldura lg</td>\n",
       "      <td>reliable</td>\n",
       "      <td>portuguese</td>\n",
       "      <td>CELLPHONE_TABLET_AND_GPS_SCREEN_PROTECTORS</td>\n",
       "    </tr>\n",
       "  </tbody>\n",
       "</table>\n",
       "</div>"
      ],
      "text/plain": [
       "                                              title  ...                                    category\n",
       "0                       pelicula vidro asus zenfone  ...  CELLPHONE_TABLET_AND_GPS_SCREEN_PROTECTORS\n",
       "1                               touch multilaser ms  ...  CELLPHONE_TABLET_AND_GPS_SCREEN_PROTECTORS\n",
       "2  pelicula gel samsung pro celular top tela curva   ...  CELLPHONE_TABLET_AND_GPS_SCREEN_PROTECTORS\n",
       "3     lcd frontal touch screen lente vidro samsung   ...  CELLPHONE_TABLET_AND_GPS_SCREEN_PROTECTORS\n",
       "4              display lcd touch screen moldura lg   ...  CELLPHONE_TABLET_AND_GPS_SCREEN_PROTECTORS\n",
       "\n",
       "[5 rows x 4 columns]"
      ]
     },
     "execution_count": 12,
     "metadata": {
      "tags": []
     },
     "output_type": "execute_result"
    }
   ],
   "source": [
    "df = pd.read_csv('train_pr.csv')\n",
    "df.head()"
   ]
  },
  {
   "cell_type": "code",
   "execution_count": null,
   "metadata": {
    "colab": {
     "base_uri": "https://localhost:8080/",
     "height": 171
    },
    "colab_type": "code",
    "id": "KI0aZ1sC8wto",
    "outputId": "f7b96aeb-b163-4dbd-a0f6-c7dc4f685e2c"
   },
   "outputs": [],
   "source": [
    "#shuffle dataframe\n",
    "df = df.sample(frac=1).reset_index(drop=True)\n",
    "df.iloc[:200,:]\n",
    "df.describe()"
   ]
  },
  {
   "cell_type": "code",
   "execution_count": 0,
   "metadata": {
    "colab": {
     "base_uri": "https://localhost:8080/",
     "height": 294
    },
    "colab_type": "code",
    "id": "yHDppoURSdHw",
    "outputId": "dba61432-b80d-4fe7-c709-601e915fd984"
   },
   "outputs": [
    {
     "data": {
      "text/html": [
       "<div>\n",
       "<style scoped>\n",
       "    .dataframe tbody tr th:only-of-type {\n",
       "        vertical-align: middle;\n",
       "    }\n",
       "\n",
       "    .dataframe tbody tr th {\n",
       "        vertical-align: top;\n",
       "    }\n",
       "\n",
       "    .dataframe thead th {\n",
       "        text-align: right;\n",
       "    }\n",
       "</style>\n",
       "<table border=\"1\" class=\"dataframe\">\n",
       "  <thead>\n",
       "    <tr style=\"text-align: right;\">\n",
       "      <th></th>\n",
       "      <th>title</th>\n",
       "      <th>label_quality</th>\n",
       "      <th>language</th>\n",
       "    </tr>\n",
       "  </thead>\n",
       "  <tbody>\n",
       "    <tr>\n",
       "      <th>count</th>\n",
       "      <td>1576.000000</td>\n",
       "      <td>1576.000000</td>\n",
       "      <td>1576.000000</td>\n",
       "    </tr>\n",
       "    <tr>\n",
       "      <th>mean</th>\n",
       "      <td>1947.758249</td>\n",
       "      <td>1947.758249</td>\n",
       "      <td>1947.758249</td>\n",
       "    </tr>\n",
       "    <tr>\n",
       "      <th>std</th>\n",
       "      <td>560.922050</td>\n",
       "      <td>560.922050</td>\n",
       "      <td>560.922050</td>\n",
       "    </tr>\n",
       "    <tr>\n",
       "      <th>min</th>\n",
       "      <td>20.000000</td>\n",
       "      <td>20.000000</td>\n",
       "      <td>20.000000</td>\n",
       "    </tr>\n",
       "    <tr>\n",
       "      <th>25%</th>\n",
       "      <td>2199.000000</td>\n",
       "      <td>2199.000000</td>\n",
       "      <td>2199.000000</td>\n",
       "    </tr>\n",
       "    <tr>\n",
       "      <th>50%</th>\n",
       "      <td>2200.000000</td>\n",
       "      <td>2200.000000</td>\n",
       "      <td>2200.000000</td>\n",
       "    </tr>\n",
       "    <tr>\n",
       "      <th>75%</th>\n",
       "      <td>2200.000000</td>\n",
       "      <td>2200.000000</td>\n",
       "      <td>2200.000000</td>\n",
       "    </tr>\n",
       "    <tr>\n",
       "      <th>max</th>\n",
       "      <td>2200.000000</td>\n",
       "      <td>2200.000000</td>\n",
       "      <td>2200.000000</td>\n",
       "    </tr>\n",
       "  </tbody>\n",
       "</table>\n",
       "</div>"
      ],
      "text/plain": [
       "             title  label_quality     language\n",
       "count  1576.000000    1576.000000  1576.000000\n",
       "mean   1947.758249    1947.758249  1947.758249\n",
       "std     560.922050     560.922050   560.922050\n",
       "min      20.000000      20.000000    20.000000\n",
       "25%    2199.000000    2199.000000  2199.000000\n",
       "50%    2200.000000    2200.000000  2200.000000\n",
       "75%    2200.000000    2200.000000  2200.000000\n",
       "max    2200.000000    2200.000000  2200.000000"
      ]
     },
     "execution_count": 14,
     "metadata": {
      "tags": []
     },
     "output_type": "execute_result"
    }
   ],
   "source": [
    "df.groupby('category').count().describe()"
   ]
  },
  {
   "cell_type": "code",
   "execution_count": 0,
   "metadata": {
    "colab": {
     "base_uri": "https://localhost:8080/",
     "height": 202
    },
    "colab_type": "code",
    "id": "cg8U0YjIrGVe",
    "outputId": "76af2a0f-a725-4510-a232-6265dc4a78d3"
   },
   "outputs": [
    {
     "data": {
      "text/html": [
       "<div>\n",
       "<style scoped>\n",
       "    .dataframe tbody tr th:only-of-type {\n",
       "        vertical-align: middle;\n",
       "    }\n",
       "\n",
       "    .dataframe tbody tr th {\n",
       "        vertical-align: top;\n",
       "    }\n",
       "\n",
       "    .dataframe thead th {\n",
       "        text-align: right;\n",
       "    }\n",
       "</style>\n",
       "<table border=\"1\" class=\"dataframe\">\n",
       "  <thead>\n",
       "    <tr style=\"text-align: right;\">\n",
       "      <th></th>\n",
       "      <th>title</th>\n",
       "      <th>label_quality</th>\n",
       "      <th>language</th>\n",
       "      <th>category</th>\n",
       "    </tr>\n",
       "  </thead>\n",
       "  <tbody>\n",
       "    <tr>\n",
       "      <th>0</th>\n",
       "      <td>prisma telescopio telescopio orig</td>\n",
       "      <td>unreliable</td>\n",
       "      <td>portuguese</td>\n",
       "      <td>TELESCOPES</td>\n",
       "    </tr>\n",
       "    <tr>\n",
       "      <th>1</th>\n",
       "      <td>colchonete roupa preta cobertor</td>\n",
       "      <td>unreliable</td>\n",
       "      <td>portuguese</td>\n",
       "      <td>EXERCISE_MATS</td>\n",
       "    </tr>\n",
       "    <tr>\n",
       "      <th>2</th>\n",
       "      <td>furador jumbo papel unicornio toke crie</td>\n",
       "      <td>unreliable</td>\n",
       "      <td>portuguese</td>\n",
       "      <td>HOLE_PUNCHES</td>\n",
       "    </tr>\n",
       "    <tr>\n",
       "      <th>3</th>\n",
       "      <td>tatame tapete eva bebe ginastica</td>\n",
       "      <td>unreliable</td>\n",
       "      <td>portuguese</td>\n",
       "      <td>EXERCISE_MATS</td>\n",
       "    </tr>\n",
       "    <tr>\n",
       "      <th>4</th>\n",
       "      <td>prancha salon line bellatrix bivolt</td>\n",
       "      <td>unreliable</td>\n",
       "      <td>portuguese</td>\n",
       "      <td>HAIR_STRAIGHTENERS</td>\n",
       "    </tr>\n",
       "  </tbody>\n",
       "</table>\n",
       "</div>"
      ],
      "text/plain": [
       "                                     title  ...            category\n",
       "0        prisma telescopio telescopio orig  ...          TELESCOPES\n",
       "1          colchonete roupa preta cobertor  ...       EXERCISE_MATS\n",
       "2  furador jumbo papel unicornio toke crie  ...        HOLE_PUNCHES\n",
       "3         tatame tapete eva bebe ginastica  ...       EXERCISE_MATS\n",
       "4      prancha salon line bellatrix bivolt  ...  HAIR_STRAIGHTENERS\n",
       "\n",
       "[5 rows x 4 columns]"
      ]
     },
     "execution_count": 15,
     "metadata": {
      "tags": []
     },
     "output_type": "execute_result"
    }
   ],
   "source": [
    "df.head()"
   ]
  },
  {
   "cell_type": "code",
   "execution_count": 0,
   "metadata": {
    "colab": {},
    "colab_type": "code",
    "id": "UnCTsmIl9L7g"
   },
   "outputs": [],
   "source": [
    "df.to_csv(PATH / 'train_preproPR.csv', index=False)"
   ]
  },
  {
   "cell_type": "code",
   "execution_count": 0,
   "metadata": {
    "colab": {
     "base_uri": "https://localhost:8080/",
     "height": 1000
    },
    "colab_type": "code",
    "id": "LB81SGVQ9Sai",
    "outputId": "641252fd-c26a-4210-82b1-bf3d07cfcc43"
   },
   "outputs": [
    {
     "data": {
      "text/plain": [
       "[('porta', 63617),\n",
       " ('frete', 57803),\n",
       " ('caixa', 52428),\n",
       " ('pecas', 51259),\n",
       " ('mesa', 46987),\n",
       " ('led', 46651),\n",
       " ('inox', 45090),\n",
       " ('infantil', 42471),\n",
       " ('capa', 40910),\n",
       " ('suporte', 40414),\n",
       " ('digital', 37499),\n",
       " ('aco', 36263),\n",
       " ('motor', 35611),\n",
       " ('bateria', 35526),\n",
       " ('cabo', 35454),\n",
       " ('jogo', 34998),\n",
       " ('madeira', 34548),\n",
       " ('preta', 31195),\n",
       " ('vidro', 30747),\n",
       " ('par', 30454),\n",
       " ('bomba', 30422),\n",
       " ('usb', 30313),\n",
       " ('maquina', 29907),\n",
       " ('aluminio', 29438),\n",
       " ('pro', 29012),\n",
       " ('pcs', 28547),\n",
       " ('tampa', 27383),\n",
       " ('protetor', 25594),\n",
       " ('eletrica', 24833),\n",
       " ('super', 24728),\n",
       " ('filtro', 24658),\n",
       " ('placa', 24620),\n",
       " ('notebook', 24348),\n",
       " ('fio', 24184),\n",
       " ('piscina', 23551),\n",
       " ('conjunto', 23494),\n",
       " ('freio', 23014),\n",
       " ('sensor', 22883),\n",
       " ('tv', 22588),\n",
       " ('controle', 22447),\n",
       " ('branca', 21928),\n",
       " ('agua', 21877),\n",
       " ('eletrico', 21834),\n",
       " ('bola', 21797),\n",
       " ('portatil', 21523),\n",
       " ('honda', 21487),\n",
       " ('bebe', 21397),\n",
       " ('bolsa', 21299),\n",
       " ('brinde', 20958),\n",
       " ('completo', 20709),\n",
       " ('camera', 20708),\n",
       " ('bivolt', 20660),\n",
       " ('parede', 20589),\n",
       " ('cores', 20377),\n",
       " ('valvula', 20345),\n",
       " ('cor', 20344),\n",
       " ('entrega', 20330),\n",
       " ('couro', 20144),\n",
       " ('cadeira', 20122),\n",
       " ('painel', 20109),\n",
       " ('tela', 19916),\n",
       " ('hd', 19252),\n",
       " ('pronta', 18749),\n",
       " ('roda', 18613),\n",
       " ('teclado', 18513),\n",
       " ('oleo', 18312),\n",
       " ('base', 18274),\n",
       " ('moto', 17855),\n",
       " ('chave', 17723),\n",
       " ('hp', 17676),\n",
       " ('adesivo', 17590),\n",
       " ('samsung', 17494),\n",
       " ('ford', 17464),\n",
       " ('plastico', 17452),\n",
       " ('modelo', 17415),\n",
       " ('metal', 17358),\n",
       " ('gel', 17243),\n",
       " ('fiat', 17059),\n",
       " ('gol', 16890),\n",
       " ('prata', 16822),\n",
       " ('traseiro', 16601),\n",
       " ('pc', 16490),\n",
       " ('plus', 16454),\n",
       " ('cozinha', 16350),\n",
       " ('dianteiro', 15937),\n",
       " ('relogio', 15873),\n",
       " ('dvd', 15809),\n",
       " ('black', 15725),\n",
       " ('oculos', 15489),\n",
       " ('luva', 15380),\n",
       " ('atacado', 15285),\n",
       " ('mascara', 15239),\n",
       " ('gm', 15169),\n",
       " ('mdf', 15084),\n",
       " ('unid', 15060),\n",
       " ('vw', 15055),\n",
       " ('barra', 14834),\n",
       " ('traseira', 14655),\n",
       " ('tramontina', 14590),\n",
       " ('lote', 14567),\n",
       " ('silicone', 14525),\n",
       " ('modulo', 14465),\n",
       " ('direcao', 14391),\n",
       " ('top', 14332),\n",
       " ('tamanho', 14117),\n",
       " ('papel', 14087),\n",
       " ('feminino', 14044),\n",
       " ('sony', 14027),\n",
       " ('bmw', 13945),\n",
       " ('semi', 13748),\n",
       " ('luxo', 13592),\n",
       " ('case', 13491),\n",
       " ('pressao', 13288),\n",
       " ('saco', 13239),\n",
       " ('cama', 13093),\n",
       " ('embreagem', 13086),\n",
       " ('manual', 13046),\n",
       " ('som', 12987),\n",
       " ('carro', 12933),\n",
       " ('disco', 12840),\n",
       " ('portas', 12789),\n",
       " ('seguranca', 12741),\n",
       " ('radio', 12600),\n",
       " ('cambio', 12561),\n",
       " ('gas', 12543),\n",
       " ('fita', 12481),\n",
       " ('tam', 12466),\n",
       " ('dupla', 12387),\n",
       " ('masculino', 12232),\n",
       " ('aparelho', 12181),\n",
       " ('slim', 12160),\n",
       " ('cafe', 12157),\n",
       " ('ferro', 12140),\n",
       " ('fibra', 12050),\n",
       " ('banheiro', 12017),\n",
       " ('po', 11931),\n",
       " ('escova', 11925),\n",
       " ('cortador', 11913),\n",
       " ('linha', 11900),\n",
       " ('luz', 11879),\n",
       " ('duplo', 11823),\n",
       " ('colete', 11792),\n",
       " ('pedal', 11768),\n",
       " ('yamaha', 11759),\n",
       " ('natural', 11664),\n",
       " ('termica', 11658),\n",
       " ('cartao', 11407),\n",
       " ('ref', 11334),\n",
       " ('audi', 11324),\n",
       " ('dianteira', 11281),\n",
       " ('mangueira', 11220),\n",
       " ('carregador', 11040),\n",
       " ('banco', 11009),\n",
       " ('carrinho', 10997),\n",
       " ('feminina', 10950),\n",
       " ('palio', 10872),\n",
       " ('mercedes', 10820),\n",
       " ('lg', 10812),\n",
       " ('farol', 10798),\n",
       " ('protecao', 10774),\n",
       " ('pol', 10764),\n",
       " ('lente', 10721),\n",
       " ('estojo', 10708),\n",
       " ('bluetooth', 10679),\n",
       " ('inflavel', 10676),\n",
       " ('cx', 10674),\n",
       " ('polegadas', 10649),\n",
       " ('cromado', 10645),\n",
       " ('ps', 10576),\n",
       " ('solda', 10558),\n",
       " ('vermelha', 10482),\n",
       " ('caneta', 10454),\n",
       " ('festa', 10438),\n",
       " ('casal', 10408),\n",
       " ('cv', 10386),\n",
       " ('combustivel', 10375),\n",
       " ('lcd', 10320),\n",
       " ('lampada', 10319),\n",
       " ('acrilico', 10234),\n",
       " ('rodas', 10183),\n",
       " ('automatico', 10131),\n",
       " ('flex', 10118),\n",
       " ('decoracao', 10090),\n",
       " ('eixo', 10063),\n",
       " ('tenis', 10036),\n",
       " ('direito', 9930),\n",
       " ('condicionado', 9920),\n",
       " ('cabeca', 9899),\n",
       " ('philips', 9872),\n",
       " ('garrafa', 9861),\n",
       " ('tapete', 9838),\n",
       " ('celular', 9831),\n",
       " ('baby', 9831),\n",
       " ('barato', 9829),\n",
       " ('fonte', 9810),\n",
       " ('quadro', 9765),\n",
       " ('laser', 9727),\n",
       " ('completa', 9686),\n",
       " ('gravador', 9678),\n",
       " ('copo', 9662),\n",
       " ('gasolina', 9656),\n",
       " ('alca', 9611),\n",
       " ('ano', 9531),\n",
       " ('lateral', 9513),\n",
       " ('br', 9499),\n",
       " ('lado', 9490),\n",
       " ('quente', 9478),\n",
       " ('peugeot', 9454),\n",
       " ('nf', 9453),\n",
       " ('balanca', 9439),\n",
       " ('radiador', 9421),\n",
       " ('piso', 9397),\n",
       " ('rede', 9352),\n",
       " ('canon', 9349),\n",
       " ('abs', 9333),\n",
       " ('mao', 9304),\n",
       " ('mt', 9296),\n",
       " ('tanque', 9245),\n",
       " ('algodao', 9243),\n",
       " ('mp', 9219),\n",
       " ('corsa', 9214),\n",
       " ('alicate', 9203),\n",
       " ('aro', 9202),\n",
       " ('dobravel', 9191),\n",
       " ('anel', 9173),\n",
       " ('remoto', 9170),\n",
       " ('amortecedor', 9169),\n",
       " ('esquerdo', 9130),\n",
       " ('rolo', 9109),\n",
       " ('maleta', 9026),\n",
       " ('corte', 9000),\n",
       " ('cilindro', 8927),\n",
       " ('ouro', 8889),\n",
       " ('pares', 8873),\n",
       " ('pvc', 8853),\n",
       " ('multiuso', 8784),\n",
       " ('video', 8777),\n",
       " ('turbo', 8769),\n",
       " ('bico', 8703),\n",
       " ('cinta', 8691),\n",
       " ('bandeja', 8681),\n",
       " ('torneira', 8678),\n",
       " ('bicicleta', 8661),\n",
       " ('eletronica', 8609),\n",
       " ('hyundai', 8540),\n",
       " ('cod', 8509),\n",
       " ('renault', 8489),\n",
       " ('preco', 8468),\n",
       " ('solar', 8459),\n",
       " ('cd', 8429)]"
      ]
     },
     "execution_count": 18,
     "metadata": {
      "tags": []
     },
     "output_type": "execute_result"
    }
   ],
   "source": [
    "#check most frequent words\n",
    "from collections import Counter \n",
    "Counter(\" \".join(df[\"title\"]).split()).most_common(250)"
   ]
  },
  {
   "cell_type": "markdown",
   "metadata": {
    "colab_type": "text",
    "id": "CQ5GBZsoC-MH"
   },
   "source": [
    "## Classification"
   ]
  },
  {
   "cell_type": "markdown",
   "metadata": {
    "colab_type": "text",
    "id": "vqyLMJjESw9k"
   },
   "source": [
    "### Classification data"
   ]
  },
  {
   "cell_type": "code",
   "execution_count": 0,
   "metadata": {
    "colab": {},
    "colab_type": "code",
    "id": "ZGLlCmgzdzel"
   },
   "outputs": [],
   "source": [
    "df_smp = pd.read_csv(PATH / 'train_preproPR.csv')"
   ]
  },
  {
   "cell_type": "markdown",
   "metadata": {
    "colab_type": "text",
    "id": "g0gpsOsZJXPG"
   },
   "source": [
    "Now we create our 'databunch': an object that contains our datasets (train and validation) and our dataloaders. The dataloaders are iterables that we use to feed our model with batches of size 'batch_size'.\n",
    "\n",
    "We must make sure that we use the same vocabulary (recongnized tokens) that we used in the language model. This will assure us that the model understands words and converts them to tokens in the same way."
   ]
  },
  {
   "cell_type": "code",
   "execution_count": 0,
   "metadata": {
    "colab": {},
    "colab_type": "code",
    "id": "P_yhaAombepe"
   },
   "outputs": [],
   "source": [
    " with open(PATH/'vocab_lm.pkl', \"rb\") as input_file:\n",
    "    lm_vocab = pkl.load(input_file)"
   ]
  },
  {
   "cell_type": "code",
   "execution_count": 0,
   "metadata": {
    "colab": {},
    "colab_type": "code",
    "id": "0cTsZgodz7uV"
   },
   "outputs": [],
   "source": [
    "if not (PATH / 'data_clas_exportPR.pkl').exists() or True:\n",
    "    data_clas = TextClasDataBunch.from_csv(\n",
    "        PATH, \n",
    "        'train_preproPR.csv', \n",
    "        vocab=lm_vocab, \n",
    "        bs=800, \n",
    "        text_cols='title', \n",
    "        label_cols='category'\n",
    "    )\n",
    "    \n",
    "    data_clas.save('data_clas_exportPR.pkl')\n",
    "else:\n",
    "    data_clas = load_data(PATH, 'data_clas_exportPR.pkl')"
   ]
  },
  {
   "cell_type": "code",
   "execution_count": 0,
   "metadata": {
    "colab": {
     "base_uri": "https://localhost:8080/",
     "height": 511
    },
    "colab_type": "code",
    "id": "r_ZXEGhGJvpB",
    "outputId": "2263693d-6434-4b2b-a3b7-718ec4a2fb2f"
   },
   "outputs": [
    {
     "data": {
      "text/html": [
       "<table border=\"1\" class=\"dataframe\">\n",
       "  <thead>\n",
       "    <tr style=\"text-align: right;\">\n",
       "      <th>text</th>\n",
       "      <th>target</th>\n",
       "    </tr>\n",
       "  </thead>\n",
       "  <tbody>\n",
       "    <tr>\n",
       "      <td>xxbos lona ripstop bege impermeavel sombra multi uso shade mt protecao sol chuva vento tenda tela toldo garagem carro</td>\n",
       "      <td>SHADE_CLOTHS</td>\n",
       "    </tr>\n",
       "    <tr>\n",
       "      <td>xxbos roda aro veneto civic fusion sonata azera creta equinox tucson hr et diamantado vittoria</td>\n",
       "      <td>AUTOMOTIVE_TIRES</td>\n",
       "    </tr>\n",
       "    <tr>\n",
       "      <td>xxbos glister creme dental sabao po sa amway ajuda fortalecer esmalte dente produto concentrado</td>\n",
       "      <td>TOOTHPASTES</td>\n",
       "    </tr>\n",
       "    <tr>\n",
       "      <td>xxbos xxunk xxunk ip hd mp cmos poe noite dia tv ip wi tre</td>\n",
       "      <td>IP_TELEPHONES</td>\n",
       "    </tr>\n",
       "    <tr>\n",
       "      <td>xxbos camarao artificial jig head brilha escuro robalo xxunk corvina xxunk xxunk tucunare traira</td>\n",
       "      <td>FISHING_LURES</td>\n",
       "    </tr>\n",
       "    <tr>\n",
       "      <td>xxbos tampa xperia aqua traseira fundo frete qualquer lugar leia logo abaixo descricao anuncio</td>\n",
       "      <td>CELLPHONE_AND_TABLET_CASES</td>\n",
       "    </tr>\n",
       "    <tr>\n",
       "      <td>xxbos cinta lombar hastes flexiveis protege coluna peso masculina feminina compressao verifique medidas anuncio</td>\n",
       "      <td>LUMBAR_AND_ABDOMINAL_BRACES</td>\n",
       "    </tr>\n",
       "    <tr>\n",
       "      <td>xxbos mesa tosa fixa prateleira pet mix girafa contencao suporte maquina qualidade top</td>\n",
       "      <td>GROOMING_TABLES</td>\n",
       "    </tr>\n",
       "    <tr>\n",
       "      <td>xxbos alicate eletricista descascador fios cabos ajustavel brinde chave teste tensao ac dc</td>\n",
       "      <td>WIRE_STRIPPERS</td>\n",
       "    </tr>\n",
       "    <tr>\n",
       "      <td>xxbos capa pet automotiva impermeavel protetora assento banco transportar carro cinto seguranca cachorro</td>\n",
       "      <td>DOG_CARRIERS_AND_CARRYING_BAGS</td>\n",
       "    </tr>\n",
       "  </tbody>\n",
       "</table>"
      ],
      "text/plain": [
       "<IPython.core.display.HTML object>"
      ]
     },
     "metadata": {
      "tags": []
     },
     "output_type": "display_data"
    }
   ],
   "source": [
    "data_clas.show_batch(rows=10)"
   ]
  },
  {
   "cell_type": "code",
   "execution_count": 0,
   "metadata": {
    "colab": {},
    "colab_type": "code",
    "id": "-hSPs-cFmnmV"
   },
   "outputs": [],
   "source": [
    "data_clas.save('data_clas_smpPR.pkl')"
   ]
  },
  {
   "cell_type": "code",
   "execution_count": 0,
   "metadata": {
    "colab": {},
    "colab_type": "code",
    "id": "40DhlmzugKUh"
   },
   "outputs": [],
   "source": [
    "data_clas = load_data(PATH,'data_clas_smpPR.pkl')"
   ]
  },
  {
   "cell_type": "markdown",
   "metadata": {
    "colab_type": "text",
    "id": "OooTjbVS80M8"
   },
   "source": [
    "### Classifier training"
   ]
  },
  {
   "cell_type": "code",
   "execution_count": 0,
   "metadata": {
    "colab": {},
    "colab_type": "code",
    "id": "rmmvNSiI80NE"
   },
   "outputs": [],
   "source": [
    "learn = text_classifier_learner(data_clas, AWD_LSTM, drop_mult=0.13, bptt=12, path=PATH)\n",
    "learn.load_encoder('lm_enc')\n",
    "learn.freeze()"
   ]
  },
  {
   "cell_type": "code",
   "execution_count": 0,
   "metadata": {
    "colab": {
     "base_uri": "https://localhost:8080/",
     "height": 335
    },
    "colab_type": "code",
    "id": "tqWDx2kmUzZi",
    "outputId": "3acac507-7c59-4ae3-e2e9-98c5d2ccb7ee",
    "papermill": {
     "duration": 414.968171,
     "end_time": "2019-09-11T14:23:06.687536",
     "exception": false,
     "start_time": "2019-09-11T14:16:11.719365",
     "status": "completed"
    },
    "tags": []
   },
   "outputs": [
    {
     "data": {
      "text/html": [],
      "text/plain": [
       "<IPython.core.display.HTML object>"
      ]
     },
     "metadata": {
      "tags": []
     },
     "output_type": "display_data"
    },
    {
     "name": "stdout",
     "output_type": "stream",
     "text": [
      "LR Finder is complete, type {learner_name}.recorder.plot() to see the graph.\n",
      "Min numerical gradient: 1.20E-01\n",
      "Min loss divided by 10: 3.02E-02\n"
     ]
    },
    {
     "data": {
      "image/png": "[encoded data removed]",
      "text/plain": [
       "<Figure size 432x288 with 1 Axes>"
      ]
     },
     "metadata": {
      "tags": []
     },
     "output_type": "display_data"
    }
   ],
   "source": [
    "learn.lr_find()\n",
    "learn.recorder.plot(skip_end=10, skip_start=15, suggestion=True)"
   ]
  },
  {
   "cell_type": "code",
   "execution_count": 0,
   "metadata": {
    "colab": {
     "base_uri": "https://localhost:8080/",
     "height": 79
    },
    "colab_type": "code",
    "id": "W0BzRSpxVbM2",
    "outputId": "169083a7-2b42-4e09-bba6-fe14365d6707",
    "papermill": {
     "duration": 1220.280094,
     "end_time": "2019-09-11T14:43:46.214895",
     "exception": false,
     "start_time": "2019-09-11T14:23:25.934801",
     "status": "completed"
    },
    "tags": []
   },
   "outputs": [
    {
     "data": {
      "text/html": [
       "<table border=\"1\" class=\"dataframe\">\n",
       "  <thead>\n",
       "    <tr style=\"text-align: left;\">\n",
       "      <th>epoch</th>\n",
       "      <th>train_loss</th>\n",
       "      <th>valid_loss</th>\n",
       "      <th>accuracy</th>\n",
       "      <th>time</th>\n",
       "    </tr>\n",
       "  </thead>\n",
       "  <tbody>\n",
       "    <tr>\n",
       "      <td>0</td>\n",
       "      <td>0.969194</td>\n",
       "      <td>0.829876</td>\n",
       "      <td>0.823297</td>\n",
       "      <td>09:11</td>\n",
       "    </tr>\n",
       "  </tbody>\n",
       "</table>"
      ],
      "text/plain": [
       "<IPython.core.display.HTML object>"
      ]
     },
     "metadata": {
      "tags": []
     },
     "output_type": "display_data"
    }
   ],
   "source": [
    "learn.fit_one_cycle(1, 9.5e-2, moms=(0.8, 0.7))"
   ]
  },
  {
   "cell_type": "code",
   "execution_count": 0,
   "metadata": {
    "colab": {},
    "colab_type": "code",
    "id": "LZ3wcbYmVbM3",
    "papermill": {
     "duration": 18.829895,
     "end_time": "2019-09-11T14:44:23.734614",
     "exception": false,
     "start_time": "2019-09-11T14:44:04.904719",
     "status": "completed"
    },
    "tags": []
   },
   "outputs": [],
   "source": [
    "learn.save('class_fit_headPR')"
   ]
  },
  {
   "cell_type": "code",
   "execution_count": 0,
   "metadata": {
    "colab": {},
    "colab_type": "code",
    "id": "N71DqteOVbM4",
    "papermill": {
     "duration": 416.486231,
     "end_time": "2019-09-11T14:51:38.528383",
     "exception": false,
     "start_time": "2019-09-11T14:44:42.042152",
     "status": "completed"
    },
    "tags": []
   },
   "outputs": [],
   "source": [
    "learn.freeze_to(-2)"
   ]
  },
  {
   "cell_type": "code",
   "execution_count": 0,
   "metadata": {
    "colab": {
     "base_uri": "https://localhost:8080/",
     "height": 79
    },
    "colab_type": "code",
    "id": "UEZVoT8IVbM8",
    "outputId": "724a4ff6-94a3-44d1-a8b7-bc0c208a21cf",
    "papermill": {
     "duration": 1376.067807,
     "end_time": "2019-09-11T15:15:30.958737",
     "exception": false,
     "start_time": "2019-09-11T14:52:34.890930",
     "status": "completed"
    },
    "tags": []
   },
   "outputs": [
    {
     "data": {
      "text/html": [
       "<table border=\"1\" class=\"dataframe\">\n",
       "  <thead>\n",
       "    <tr style=\"text-align: left;\">\n",
       "      <th>epoch</th>\n",
       "      <th>train_loss</th>\n",
       "      <th>valid_loss</th>\n",
       "      <th>accuracy</th>\n",
       "      <th>time</th>\n",
       "    </tr>\n",
       "  </thead>\n",
       "  <tbody>\n",
       "    <tr>\n",
       "      <td>0</td>\n",
       "      <td>0.771908</td>\n",
       "      <td>0.670642</td>\n",
       "      <td>0.852541</td>\n",
       "      <td>11:15</td>\n",
       "    </tr>\n",
       "  </tbody>\n",
       "</table>"
      ],
      "text/plain": [
       "<IPython.core.display.HTML object>"
      ]
     },
     "metadata": {
      "tags": []
     },
     "output_type": "display_data"
    }
   ],
   "source": [
    "learn.fit_one_cycle(1, slice(9.5e-3/(2.6), 9.5e-3), moms=(0.8, 0.7))"
   ]
  },
  {
   "cell_type": "code",
   "execution_count": 0,
   "metadata": {
    "colab": {},
    "colab_type": "code",
    "id": "rhuTOXCBVbM9",
    "papermill": {
     "duration": 19.614272,
     "end_time": "2019-09-11T15:16:09.850581",
     "exception": false,
     "start_time": "2019-09-11T15:15:50.236309",
     "status": "completed"
    },
    "tags": []
   },
   "outputs": [],
   "source": [
    "learn.save('class_fit_top2PR')"
   ]
  },
  {
   "cell_type": "code",
   "execution_count": 0,
   "metadata": {
    "colab": {},
    "colab_type": "code",
    "id": "0-n3qILFVbM-",
    "papermill": {
     "duration": 19.68686,
     "end_time": "2019-09-11T15:16:49.139724",
     "exception": false,
     "start_time": "2019-09-11T15:16:29.452864",
     "status": "completed"
    },
    "tags": []
   },
   "outputs": [],
   "source": [
    "learn.load('class_fit_top2PR');"
   ]
  },
  {
   "cell_type": "code",
   "execution_count": 0,
   "metadata": {
    "colab": {},
    "colab_type": "code",
    "id": "mkhWSkDPLtna"
   },
   "outputs": [],
   "source": [
    "learn.unfreeze()"
   ]
  },
  {
   "cell_type": "code",
   "execution_count": 0,
   "metadata": {
    "colab": {},
    "colab_type": "code",
    "id": "zl_lSSwSL7BV"
   },
   "outputs": [],
   "source": [
    "# learn.lr_find()\n",
    "# learn.recorder.plot(skip_end=20, skip_start=20, suggestion=True)"
   ]
  },
  {
   "cell_type": "code",
   "execution_count": null,
   "metadata": {
    "colab": {
     "base_uri": "https://localhost:8080/",
     "height": 461
    },
    "colab_type": "code",
    "id": "0uIF0I9fVbNM",
    "outputId": "1b08347c-fdef-4718-9fbe-7ed822d5452f",
    "papermill": {
     "duration": 11812.945881,
     "end_time": "2019-09-11T18:41:21.006008",
     "exception": false,
     "start_time": "2019-09-11T15:24:28.060127",
     "status": "completed"
    },
    "tags": []
   },
   "outputs": [],
   "source": [
    "learn.fit_one_cycle(\n",
    "    3, slice(9.5e-4/(2.6), 9.5e-4), moms=(0.8, 0.7), \n",
    "    #callbacks=[SaveModelCallback(learn, every='epoch', monitor='accuracy', name='class_fit_full'), PrintingCallback()]\n",
    ")"
   ]
  },
  {
   "cell_type": "code",
   "execution_count": 0,
   "metadata": {
    "colab": {},
    "colab_type": "code",
    "id": "022Y6EA4VbNO",
    "papermill": {
     "duration": 22.750396,
     "end_time": "2019-09-11T18:42:04.965812",
     "exception": false,
     "start_time": "2019-09-11T18:41:42.215416",
     "status": "completed"
    },
    "tags": []
   },
   "outputs": [],
   "source": [
    "learn.save('class_fit_fullPR')"
   ]
  },
  {
   "cell_type": "markdown",
   "metadata": {
    "colab_type": "text",
    "id": "r0tqRLciUzaE",
    "papermill": {
     "duration": null,
     "end_time": null,
     "exception": null,
     "start_time": null,
     "status": "pending"
    },
    "tags": []
   },
   "source": [
    "## Make submission"
   ]
  },
  {
   "cell_type": "markdown",
   "metadata": {
    "colab_type": "text",
    "id": "3_-9lsbMUzaG",
    "papermill": {
     "duration": null,
     "end_time": null,
     "exception": null,
     "start_time": null,
     "status": "pending"
    },
    "tags": []
   },
   "source": [
    "### Validation Balanced Accuracy"
   ]
  },
  {
   "cell_type": "code",
   "execution_count": 0,
   "metadata": {
    "colab": {},
    "colab_type": "code",
    "id": "oPFOApxvUzaG",
    "papermill": {
     "duration": null,
     "end_time": null,
     "exception": null,
     "start_time": null,
     "status": "pending"
    },
    "tags": []
   },
   "outputs": [],
   "source": [
    "from sklearn.metrics import balanced_accuracy_score\n",
    "\n",
    "probs = learn.get_preds(ds_type=DatasetType.Valid)\n",
    "pred_indices = torch.argmax(probs[0], dim=1)\n",
    "preds_clas = [data_clas.classes[pred] for pred in pred_indices]"
   ]
  },
  {
   "cell_type": "code",
   "execution_count": 0,
   "metadata": {
    "colab": {},
    "colab_type": "code",
    "id": "lBimJ8nwUzaI",
    "papermill": {
     "duration": null,
     "end_time": null,
     "exception": null,
     "start_time": null,
     "status": "pending"
    },
    "tags": []
   },
   "outputs": [],
   "source": [
    "true = [data_clas.classes[i] for i in probs[1].detach().numpy()]"
   ]
  },
  {
   "cell_type": "markdown",
   "metadata": {
    "colab_type": "text",
    "id": "QQp4cub5xea4"
   },
   "source": [
    "Note: here we are calculating the balanced accuracy over both *reliable* and *unreliable* items, but the test set only contains *reliable* items.\n"
   ]
  },
  {
   "cell_type": "code",
   "execution_count": 0,
   "metadata": {
    "colab": {},
    "colab_type": "code",
    "id": "sc-1yuwxzYge",
    "papermill": {
     "duration": null,
     "end_time": null,
     "exception": null,
     "start_time": null,
     "status": "pending"
    },
    "tags": []
   },
   "outputs": [],
   "source": [
    "balanced_accuracy_score(true, preds_clas)"
   ]
  },
  {
   "cell_type": "markdown",
   "metadata": {
    "colab_type": "text",
    "id": "rvZG3aOKUzaM",
    "papermill": {
     "duration": null,
     "end_time": null,
     "exception": null,
     "start_time": null,
     "status": "pending"
    },
    "tags": []
   },
   "source": [
    "### Generate Submission"
   ]
  },
  {
   "cell_type": "code",
   "execution_count": 0,
   "metadata": {
    "colab": {},
    "colab_type": "code",
    "id": "nQwBOSmro8Uf"
   },
   "outputs": [],
   "source": [
    "df = pd.read_csv('test_clean.csv')"
   ]
  },
  {
   "cell_type": "code",
   "execution_count": 0,
   "metadata": {
    "colab": {},
    "colab_type": "code",
    "id": "k72oFK2qUzaO",
    "papermill": {
     "duration": null,
     "end_time": null,
     "exception": null,
     "start_time": null,
     "status": "pending"
    },
    "tags": []
   },
   "outputs": [],
   "source": [
    "df.pop('language');\n",
    "df.pop('id');"
   ]
  },
  {
   "cell_type": "code",
   "execution_count": 0,
   "metadata": {
    "colab": {},
    "colab_type": "code",
    "id": "hb_XxvamYQaX"
   },
   "outputs": [],
   "source": [
    "df.head()"
   ]
  },
  {
   "cell_type": "code",
   "execution_count": 0,
   "metadata": {
    "colab": {},
    "colab_type": "code",
    "id": "9UuOPIHoUzaP",
    "papermill": {
     "duration": null,
     "end_time": null,
     "exception": null,
     "start_time": null,
     "status": "pending"
    },
    "tags": []
   },
   "outputs": [],
   "source": [
    "learn.data.add_test(df, label=None)"
   ]
  },
  {
   "cell_type": "code",
   "execution_count": 0,
   "metadata": {
    "colab": {},
    "colab_type": "code",
    "id": "EJmPlVskXHdm"
   },
   "outputs": [],
   "source": [
    "learn.data.show_batch(ds_type=DatasetType.Test, rows=10)"
   ]
  },
  {
   "cell_type": "code",
   "execution_count": 0,
   "metadata": {
    "colab": {},
    "colab_type": "code",
    "id": "alt63EUYUzaR",
    "papermill": {
     "duration": null,
     "end_time": null,
     "exception": null,
     "start_time": null,
     "status": "pending"
    },
    "tags": []
   },
   "outputs": [],
   "source": [
    "probs = learn.get_preds(ds_type=DatasetType.Test)\n",
    "pred_indices = torch.argmax(probs[0], dim=1)\n",
    "preds_clas = [data_clas.classes[pred] for pred in pred_indices]"
   ]
  },
  {
   "cell_type": "code",
   "execution_count": 0,
   "metadata": {
    "colab": {
     "base_uri": "https://localhost:8080/",
     "height": 35
    },
    "colab_type": "code",
    "id": "_q41lHVIUzaT",
    "outputId": "d6fc4221-2c8b-4319-962d-415df9c8a3cb",
    "papermill": {
     "duration": null,
     "end_time": null,
     "exception": null,
     "start_time": null,
     "status": "pending"
    },
    "tags": []
   },
   "outputs": [
    {
     "data": {
      "text/plain": [
       "((Text xxbos picadora carne fineschi legitima, EmptyLabel ), 'MEAT_GRINDERS')"
      ]
     },
     "execution_count": 48,
     "metadata": {
      "tags": []
     },
     "output_type": "execute_result"
    }
   ],
   "source": [
    "learn.data.test_ds[10], preds_clas[10]"
   ]
  },
  {
   "cell_type": "code",
   "execution_count": 0,
   "metadata": {
    "colab": {
     "base_uri": "https://localhost:8080/",
     "height": 52
    },
    "colab_type": "code",
    "id": "U-xrB0x1Bmxb",
    "outputId": "16044d9a-d937-4cdb-b391-24eef8446be0"
   },
   "outputs": [
    {
     "data": {
      "text/plain": [
       "((Text xxbos gorras tycel claritos perforar puro latex, EmptyLabel ),\n",
       " 'HAIRDRESSING_CAPS')"
      ]
     },
     "execution_count": 49,
     "metadata": {
      "tags": []
     },
     "output_type": "execute_result"
    }
   ],
   "source": [
    "learn.data.test_ds[100], preds_clas[100]"
   ]
  },
  {
   "cell_type": "code",
   "execution_count": 0,
   "metadata": {
    "colab": {
     "base_uri": "https://localhost:8080/",
     "height": 52
    },
    "colab_type": "code",
    "id": "kGQppzx_BsC-",
    "outputId": "b8b9c533-7a5b-4f44-b6e8-be9272226a2f"
   },
   "outputs": [
    {
     "data": {
      "text/plain": [
       "((Text xxbos cepillo planchita alisador peine electrico, EmptyLabel ),\n",
       " 'HAIR_STRAIGHTENING_BRUSHES')"
      ]
     },
     "execution_count": 50,
     "metadata": {
      "tags": []
     },
     "output_type": "execute_result"
    }
   ],
   "source": [
    "learn.data.test_ds[1000], preds_clas[1000]"
   ]
  },
  {
   "cell_type": "code",
   "execution_count": 0,
   "metadata": {
    "colab": {},
    "colab_type": "code",
    "id": "C0zz5HXoUzaU",
    "papermill": {
     "duration": null,
     "end_time": null,
     "exception": null,
     "start_time": null,
     "status": "pending"
    },
    "tags": []
   },
   "outputs": [],
   "source": [
    "df = pd.read_csv('test_clean_2.csv')\n",
    "#df.pop('language');\n",
    "#df.pop('title');\n",
    "df['category'] = preds_clas"
   ]
  },
  {
   "cell_type": "code",
   "execution_count": 0,
   "metadata": {
    "colab": {},
    "colab_type": "code",
    "id": "xZF5AjbRUzac",
    "papermill": {
     "duration": null,
     "end_time": null,
     "exception": null,
     "start_time": null,
     "status": "pending"
    },
    "tags": []
   },
   "outputs": [],
   "source": [
    "df.head(5)"
   ]
  },
  {
   "cell_type": "code",
   "execution_count": 0,
   "metadata": {
    "colab": {},
    "colab_type": "code",
    "id": "xjpNiRToUzae",
    "papermill": {
     "duration": null,
     "end_time": null,
     "exception": null,
     "start_time": null,
     "status": "pending"
    },
    "tags": []
   },
   "outputs": [],
   "source": [
    "df.to_csv('submission_PR.csv', index=False)"
   ]
  }
 ],
 "metadata": {
  "accelerator": "GPU",
  "colab": {
   "collapsed_sections": [
    "hBd-gvH_RHEh",
    "rWAfKkhW80Mu"
   ],
   "name": "Copia14 de WorkshopPR.ipynb",
   "provenance": [],
   "toc_visible": true
  },
  "kernelspec": {
   "display_name": "Python 3",
   "language": "python",
   "name": "python3"
  },
  "language_info": {
   "codemirror_mode": {
    "name": "ipython",
    "version": 3
   },
   "file_extension": ".py",
   "mimetype": "text/x-python",
   "name": "python",
   "nbconvert_exporter": "python",
   "pygments_lexer": "ipython3",
   "version": "3.7.3"
  }
 },
 "nbformat": 4,
 "nbformat_minor": 1
}
