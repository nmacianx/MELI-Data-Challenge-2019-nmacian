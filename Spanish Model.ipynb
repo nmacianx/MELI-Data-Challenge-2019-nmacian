{
 "cells": [
  {
   "cell_type": "markdown",
   "metadata": {
    "colab_type": "text",
    "id": "eDAXidfZ3x0M"
   },
   "source": [
    "## Setup"
   ]
  },
  {
   "cell_type": "markdown",
   "metadata": {
    "colab_type": "text",
    "id": "lPiW2a7eFktF"
   },
   "source": [
    "If executing in Colab: Before we start, we will select a GPU. 'Entorno de ejecución', 'Cambiar tipo de entrono de ejecución', 'Acelerador de hardware', '[GPU](https://medium.com/datadriveninvestor/comparing-gpu-and-tpu-training-performance-on-google-colaboratory-c1e54e26993f)'."
   ]
  },
  {
   "cell_type": "markdown",
   "metadata": {
    "colab_type": "text",
    "id": "oipWHTMfQBsL"
   },
   "source": [
    "### Necessary libraries and paths"
   ]
  },
  {
   "cell_type": "code",
   "execution_count": 0,
   "metadata": {
    "colab": {},
    "colab_type": "code",
    "id": "3B0oxCro80Ma"
   },
   "outputs": [],
   "source": [
    "from fastai.text import * \n",
    "from fastai.callbacks import *\n",
    "from sklearn.model_selection import train_test_split\n",
    "from pathlib import Path\n",
    "import pickle as pkl"
   ]
  },
  {
   "cell_type": "code",
   "execution_count": 0,
   "metadata": {
    "colab": {},
    "colab_type": "code",
    "id": "bp2qSgKk_Vhm"
   },
   "outputs": [],
   "source": [
    "SAMPLE = True\n",
    "PATH = Path('./sample') if SAMPLE else Path('.')\n",
    "PATH.mkdir(exist_ok=True)"
   ]
  },
  {
   "cell_type": "code",
   "execution_count": 0,
   "metadata": {
    "colab": {},
    "colab_type": "code",
    "id": "xloSfaU3fVy9"
   },
   "outputs": [],
   "source": [
    "MODELS_PATH = PATH / 'models'\n",
    "MODELS_PATH.mkdir(exist_ok=True)"
   ]
  },
  {
   "cell_type": "markdown",
   "metadata": {
    "colab_type": "text",
    "id": "a-L5VWQg98sQ"
   },
   "source": [
    "### Connect with Google Drive to download necessary files"
   ]
  },
  {
   "cell_type": "code",
   "execution_count": 0,
   "metadata": {
    "colab": {},
    "colab_type": "code",
    "id": "SrUp69wnKEDk"
   },
   "outputs": [],
   "source": [
    "import os\n",
    "from pydrive.auth import GoogleAuth\n",
    "from pydrive.drive import GoogleDrive\n",
    "from google.colab import auth\n",
    "from oauth2client.client import GoogleCredentials"
   ]
  },
  {
   "cell_type": "code",
   "execution_count": 0,
   "metadata": {
    "colab": {},
    "colab_type": "code",
    "id": "2riBclDlKGWw"
   },
   "outputs": [],
   "source": [
    "auth.authenticate_user()\n",
    "gauth = GoogleAuth()\n",
    "gauth.credentials = GoogleCredentials.get_application_default()\n",
    "drive = GoogleDrive(gauth)"
   ]
  },
  {
   "cell_type": "code",
   "execution_count": null,
   "metadata": {
    "colab": {
     "base_uri": "https://localhost:8080/",
     "height": 124
    },
    "colab_type": "code",
    "id": "C7HzzzhY16ZL",
    "outputId": "8df4064c-0fb6-41f0-bb07-5e52195f670e"
   },
   "outputs": [],
   "source": [
    "from google.colab import drive as storage\n",
    "storage.mount('/content/gdrive')"
   ]
  },
  {
   "cell_type": "markdown",
   "metadata": {
    "colab_type": "text",
    "id": "Y7cY2A0C3lQA"
   },
   "source": [
    "### Download necessary files"
   ]
  },
  {
   "cell_type": "code",
   "execution_count": 0,
   "metadata": {
    "colab": {},
    "colab_type": "code",
    "id": "rBBQT9HIfQal"
   },
   "outputs": [],
   "source": [
    "!mkdir models"
   ]
  },
  {
   "cell_type": "code",
   "execution_count": 0,
   "metadata": {
    "colab": {},
    "colab_type": "code",
    "id": "amyeY51UZO64"
   },
   "outputs": [],
   "source": [
    "download = drive.CreateFile({'id': '1_0Kgr-2Hfywiaq4b-OE0YLblVnnv0QL_'})\n",
    "download.GetContentFile(MODELS_PATH/'lm_enc.pth')"
   ]
  },
  {
   "cell_type": "code",
   "execution_count": 0,
   "metadata": {
    "colab": {},
    "colab_type": "code",
    "id": "wyXxUJ7lZjXs"
   },
   "outputs": [],
   "source": [
    "download = drive.CreateFile({'id': '1SSZ01bjf8_8xLboEBP2AFGTG5vslMpX2'})\n",
    "download.GetContentFile(PATH/'vocab_lm.pkl')"
   ]
  },
  {
   "cell_type": "markdown",
   "metadata": {
    "colab_type": "text",
    "id": "Ag-55Klf80Mo"
   },
   "source": [
    "## Preprocess training"
   ]
  },
  {
   "cell_type": "code",
   "execution_count": 0,
   "metadata": {
    "colab": {},
    "colab_type": "code",
    "id": "TRo60W1h9VEL"
   },
   "outputs": [],
   "source": [
    "import unicodedata\n",
    "import pandas as pd"
   ]
  },
  {
   "cell_type": "code",
   "execution_count": 0,
   "metadata": {
    "colab": {
     "base_uri": "https://localhost:8080/",
     "height": 202
    },
    "colab_type": "code",
    "id": "1YcteJrT-1hV",
    "outputId": "e99e57e6-1f0f-4eab-e1bf-cea69ffec270"
   },
   "outputs": [
    {
     "data": {
      "text/html": [
       "<div>\n",
       "<style scoped>\n",
       "    .dataframe tbody tr th:only-of-type {\n",
       "        vertical-align: middle;\n",
       "    }\n",
       "\n",
       "    .dataframe tbody tr th {\n",
       "        vertical-align: top;\n",
       "    }\n",
       "\n",
       "    .dataframe thead th {\n",
       "        text-align: right;\n",
       "    }\n",
       "</style>\n",
       "<table border=\"1\" class=\"dataframe\">\n",
       "  <thead>\n",
       "    <tr style=\"text-align: right;\">\n",
       "      <th></th>\n",
       "      <th>title</th>\n",
       "      <th>label_quality</th>\n",
       "      <th>language</th>\n",
       "      <th>category</th>\n",
       "    </tr>\n",
       "  </thead>\n",
       "  <tbody>\n",
       "    <tr>\n",
       "      <th>0</th>\n",
       "      <td>modulos cajas capsuladas tecla tecla</td>\n",
       "      <td>reliable</td>\n",
       "      <td>spanish</td>\n",
       "      <td>ELECTRONIC_SWITCHES</td>\n",
       "    </tr>\n",
       "    <tr>\n",
       "      <th>1</th>\n",
       "      <td>vefben llave palanca interruptor bipolar</td>\n",
       "      <td>reliable</td>\n",
       "      <td>spanish</td>\n",
       "      <td>ELECTRONIC_SWITCHES</td>\n",
       "    </tr>\n",
       "    <tr>\n",
       "      <th>2</th>\n",
       "      <td>interruptor conmutador bipolar embutir vefben ...</td>\n",
       "      <td>reliable</td>\n",
       "      <td>spanish</td>\n",
       "      <td>ELECTRONIC_SWITCHES</td>\n",
       "    </tr>\n",
       "    <tr>\n",
       "      <th>3</th>\n",
       "      <td>tecla pared wifi tc broadlink touch panel domo...</td>\n",
       "      <td>reliable</td>\n",
       "      <td>spanish</td>\n",
       "      <td>ELECTRONIC_SWITCHES</td>\n",
       "    </tr>\n",
       "    <tr>\n",
       "      <th>4</th>\n",
       "      <td>tecla interruptor dimmer tecnova linea clipsal</td>\n",
       "      <td>reliable</td>\n",
       "      <td>spanish</td>\n",
       "      <td>ELECTRONIC_SWITCHES</td>\n",
       "    </tr>\n",
       "  </tbody>\n",
       "</table>\n",
       "</div>"
      ],
      "text/plain": [
       "                                               title  ...             category\n",
       "0               modulos cajas capsuladas tecla tecla  ...  ELECTRONIC_SWITCHES\n",
       "1          vefben llave palanca interruptor bipolar   ...  ELECTRONIC_SWITCHES\n",
       "2  interruptor conmutador bipolar embutir vefben ...  ...  ELECTRONIC_SWITCHES\n",
       "3  tecla pared wifi tc broadlink touch panel domo...  ...  ELECTRONIC_SWITCHES\n",
       "4     tecla interruptor dimmer tecnova linea clipsal  ...  ELECTRONIC_SWITCHES\n",
       "\n",
       "[5 rows x 4 columns]"
      ]
     },
     "execution_count": 11,
     "metadata": {
      "tags": []
     },
     "output_type": "execute_result"
    }
   ],
   "source": [
    "df = pd.read_csv('train_sp.csv')\n",
    "df.head()"
   ]
  },
  {
   "cell_type": "code",
   "execution_count": null,
   "metadata": {
    "colab": {
     "base_uri": "https://localhost:8080/",
     "height": 171
    },
    "colab_type": "code",
    "id": "gzf22DsgqfCi",
    "outputId": "515c93f5-68cf-4d18-bbf0-4dc46411f3c6"
   },
   "outputs": [],
   "source": [
    "#shuffle dataframe\n",
    "df = df.sample(frac=1).reset_index(drop=True)\n",
    "df.iloc[:200,:]\n",
    "df.describe()"
   ]
  },
  {
   "cell_type": "code",
   "execution_count": null,
   "metadata": {
    "colab": {
     "base_uri": "https://localhost:8080/",
     "height": 294
    },
    "colab_type": "code",
    "id": "Cf71Os7FSD7k",
    "outputId": "dd199995-ca75-478c-ef19-109e08326ea0"
   },
   "outputs": [],
   "source": [
    "df.groupby('category').count().describe()"
   ]
  },
  {
   "cell_type": "code",
   "execution_count": 0,
   "metadata": {
    "colab": {},
    "colab_type": "code",
    "id": "SCX5HlQ9ADPN"
   },
   "outputs": [],
   "source": [
    "#Save csv\n",
    "df.to_csv(PATH / 'train_preproSP.csv', index=False)"
   ]
  },
  {
   "cell_type": "markdown",
   "metadata": {
    "colab_type": "text",
    "id": "CQ5GBZsoC-MH"
   },
   "source": [
    "## Classification"
   ]
  },
  {
   "cell_type": "markdown",
   "metadata": {
    "colab_type": "text",
    "id": "vqyLMJjESw9k"
   },
   "source": [
    "### Classification data"
   ]
  },
  {
   "cell_type": "code",
   "execution_count": 0,
   "metadata": {
    "colab": {},
    "colab_type": "code",
    "id": "ZGLlCmgzdzel"
   },
   "outputs": [],
   "source": [
    "df_smp = pd.read_csv(PATH / 'train_preproSP.csv')"
   ]
  },
  {
   "cell_type": "markdown",
   "metadata": {
    "colab_type": "text",
    "id": "g0gpsOsZJXPG"
   },
   "source": [
    "Now we create our 'databunch': an object that contains our datasets (train and validation) and our dataloaders. The dataloaders are iterables that we use to feed our model with batches of size 'batch_size'.\n",
    "\n",
    "We must make sure that we use the same vocabulary (recongnized tokens) that we used in the language model. This will assure us that the model understands words and converts them to tokens in the same way."
   ]
  },
  {
   "cell_type": "code",
   "execution_count": 0,
   "metadata": {
    "colab": {},
    "colab_type": "code",
    "id": "P_yhaAombepe"
   },
   "outputs": [],
   "source": [
    "with open(PATH/'vocab_lm.pkl', \"rb\") as input_file:\n",
    "    lm_vocab = pkl.load(input_file)"
   ]
  },
  {
   "cell_type": "code",
   "execution_count": 0,
   "metadata": {
    "colab": {},
    "colab_type": "code",
    "id": "0cTsZgodz7uV"
   },
   "outputs": [],
   "source": [
    "if not (PATH / 'data_clas_exportSP.pkl').exists() or True:\n",
    "    data_clas = TextClasDataBunch.from_csv(\n",
    "        PATH, \n",
    "        'train_preproSP.csv', \n",
    "        vocab=lm_vocab, \n",
    "        bs=800, \n",
    "        text_cols='title', \n",
    "        label_cols='category'\n",
    "    )\n",
    "    \n",
    "    data_clas.save('data_clas_exportSP.pkl')\n",
    "else:\n",
    "    data_clas = load_data(PATH, 'data_clas_exportSP.pkl')"
   ]
  },
  {
   "cell_type": "code",
   "execution_count": 0,
   "metadata": {
    "colab": {
     "base_uri": "https://localhost:8080/",
     "height": 355
    },
    "colab_type": "code",
    "id": "r_ZXEGhGJvpB",
    "outputId": "fb42c795-f458-4f69-80e9-e5510e45fb77"
   },
   "outputs": [
    {
     "data": {
      "text/html": [
       "<table border=\"1\" class=\"dataframe\">\n",
       "  <thead>\n",
       "    <tr style=\"text-align: right;\">\n",
       "      <th>text</th>\n",
       "      <th>target</th>\n",
       "    </tr>\n",
       "  </thead>\n",
       "  <tbody>\n",
       "    <tr>\n",
       "      <td>xxbos cooler hp ac dx ac ca ac nr ac ds ac nr ac ds ac nr ac ds ac nr ac</td>\n",
       "      <td>DESKTOP_COMPUTER_COOLERS_AND_FANS</td>\n",
       "    </tr>\n",
       "    <tr>\n",
       "      <td>xxbos shadow of the tomb raider ps juego cd blu ray nuevo fisico sellado stock entrega inmediata</td>\n",
       "      <td>VIDEO_GAMES</td>\n",
       "    </tr>\n",
       "    <tr>\n",
       "      <td>xxbos morral macbook air pro tech medida different better by six hands crafts interes</td>\n",
       "      <td>NOTEBOOK_CASES</td>\n",
       "    </tr>\n",
       "    <tr>\n",
       "      <td>xxbos adaptador placa red wifi internet mbps conexion usb modelo dn antena dbi lanus</td>\n",
       "      <td>NETWORK_CARDS</td>\n",
       "    </tr>\n",
       "    <tr>\n",
       "      <td>xxbos tarjetas personales laminadas brillo troquelados especiales montados stamping sectorizados oro plata disen</td>\n",
       "      <td>IDENTIFICATION_AND_PRESENTATION_CARDS</td>\n",
       "    </tr>\n",
       "    <tr>\n",
       "      <td>xxbos manta frazada unicornio super suave abrigada arcoiris full time mania mercadolider platinum</td>\n",
       "      <td>BLANKETS</td>\n",
       "    </tr>\n",
       "    <tr>\n",
       "      <td>xxbos victorias secret llavero porta tarjetas sube metro card identificacion laboral equipaje packaging</td>\n",
       "      <td>LUGGAGE_TAGS</td>\n",
       "    </tr>\n",
       "    <tr>\n",
       "      <td>xxbos mesa cocina trampa extensible comedor rectangular diseno mirra abierta cano directo fabrica</td>\n",
       "      <td>DINING_TABLES</td>\n",
       "    </tr>\n",
       "    <tr>\n",
       "      <td>xxbos xiaomi xxunk ls cinta metrica digital medidor distancia laser telemetro retroiluminado profesional</td>\n",
       "      <td>LASER_MEASURES</td>\n",
       "    </tr>\n",
       "    <tr>\n",
       "      <td>xxbos torno electrico unas fresas manicuria pedicuria pies manos fresas profesional portable xxunk</td>\n",
       "      <td>MANICURE_AND_PEDICURE_DRILLS</td>\n",
       "    </tr>\n",
       "  </tbody>\n",
       "</table>"
      ],
      "text/plain": [
       "<IPython.core.display.HTML object>"
      ]
     },
     "metadata": {
      "tags": []
     },
     "output_type": "display_data"
    }
   ],
   "source": [
    "data_clas.show_batch(rows=10)"
   ]
  },
  {
   "cell_type": "code",
   "execution_count": 0,
   "metadata": {
    "colab": {},
    "colab_type": "code",
    "id": "-hSPs-cFmnmV"
   },
   "outputs": [],
   "source": [
    "data_clas.save('data_clas_smpSP.pkl')"
   ]
  },
  {
   "cell_type": "code",
   "execution_count": 0,
   "metadata": {
    "colab": {},
    "colab_type": "code",
    "id": "40DhlmzugKUh"
   },
   "outputs": [],
   "source": [
    "data_clas = load_data(PATH,'data_clas_smpSP.pkl')"
   ]
  },
  {
   "cell_type": "markdown",
   "metadata": {
    "colab_type": "text",
    "id": "OooTjbVS80M8"
   },
   "source": [
    "### Classifier training"
   ]
  },
  {
   "cell_type": "code",
   "execution_count": 0,
   "metadata": {
    "colab": {},
    "colab_type": "code",
    "id": "rmmvNSiI80NE"
   },
   "outputs": [],
   "source": [
    "learn = text_classifier_learner(data_clas, AWD_LSTM, drop_mult=0.13, bptt=12, path=PATH)\n",
    "learn.load_encoder('lm_enc')\n",
    "learn.freeze()"
   ]
  },
  {
   "cell_type": "code",
   "execution_count": 0,
   "metadata": {
    "colab": {
     "base_uri": "https://localhost:8080/",
     "height": 335
    },
    "colab_type": "code",
    "id": "tqWDx2kmUzZi",
    "outputId": "3baa6fd0-daba-4d69-fee6-d9e51d310457",
    "papermill": {
     "duration": 414.968171,
     "end_time": "2019-09-11T14:23:06.687536",
     "exception": false,
     "start_time": "2019-09-11T14:16:11.719365",
     "status": "completed"
    },
    "tags": []
   },
   "outputs": [
    {
     "data": {
      "text/html": [],
      "text/plain": [
       "<IPython.core.display.HTML object>"
      ]
     },
     "metadata": {
      "tags": []
     },
     "output_type": "display_data"
    },
    {
     "name": "stdout",
     "output_type": "stream",
     "text": [
      "LR Finder is complete, type {learner_name}.recorder.plot() to see the graph.\n",
      "Min numerical gradient: 1.00E-01\n",
      "Min loss divided by 10: 3.02E-02\n"
     ]
    },
    {
     "data": {
      "image/png": "[encoded data removed]",
      "text/plain": [
       "<Figure size 432x288 with 1 Axes>"
      ]
     },
     "metadata": {
      "tags": []
     },
     "output_type": "display_data"
    }
   ],
   "source": [
    "learn.lr_find()\n",
    "learn.recorder.plot(skip_end=10, skip_start=15, suggestion=True)"
   ]
  },
  {
   "cell_type": "code",
   "execution_count": 0,
   "metadata": {
    "colab": {
     "base_uri": "https://localhost:8080/",
     "height": 79
    },
    "colab_type": "code",
    "id": "W0BzRSpxVbM2",
    "outputId": "014e4a85-1327-4eee-b55a-c12140598905",
    "papermill": {
     "duration": 1220.280094,
     "end_time": "2019-09-11T14:43:46.214895",
     "exception": false,
     "start_time": "2019-09-11T14:23:25.934801",
     "status": "completed"
    },
    "tags": []
   },
   "outputs": [
    {
     "data": {
      "text/html": [
       "<table border=\"1\" class=\"dataframe\">\n",
       "  <thead>\n",
       "    <tr style=\"text-align: left;\">\n",
       "      <th>epoch</th>\n",
       "      <th>train_loss</th>\n",
       "      <th>valid_loss</th>\n",
       "      <th>accuracy</th>\n",
       "      <th>time</th>\n",
       "    </tr>\n",
       "  </thead>\n",
       "  <tbody>\n",
       "    <tr>\n",
       "      <td>0</td>\n",
       "      <td>1.063942</td>\n",
       "      <td>0.899089</td>\n",
       "      <td>0.816057</td>\n",
       "      <td>08:56</td>\n",
       "    </tr>\n",
       "  </tbody>\n",
       "</table>"
      ],
      "text/plain": [
       "<IPython.core.display.HTML object>"
      ]
     },
     "metadata": {
      "tags": []
     },
     "output_type": "display_data"
    }
   ],
   "source": [
    "learn.fit_one_cycle(1, 8e-2, moms=(0.8, 0.7))"
   ]
  },
  {
   "cell_type": "code",
   "execution_count": 0,
   "metadata": {
    "colab": {},
    "colab_type": "code",
    "id": "LZ3wcbYmVbM3",
    "papermill": {
     "duration": 18.829895,
     "end_time": "2019-09-11T14:44:23.734614",
     "exception": false,
     "start_time": "2019-09-11T14:44:04.904719",
     "status": "completed"
    },
    "tags": []
   },
   "outputs": [],
   "source": [
    "learn.save('class_fit_headSP')"
   ]
  },
  {
   "cell_type": "code",
   "execution_count": 0,
   "metadata": {
    "colab": {},
    "colab_type": "code",
    "id": "N71DqteOVbM4",
    "papermill": {
     "duration": 416.486231,
     "end_time": "2019-09-11T14:51:38.528383",
     "exception": false,
     "start_time": "2019-09-11T14:44:42.042152",
     "status": "completed"
    },
    "tags": []
   },
   "outputs": [],
   "source": [
    "learn.freeze_to(-2)"
   ]
  },
  {
   "cell_type": "code",
   "execution_count": 0,
   "metadata": {
    "colab": {
     "base_uri": "https://localhost:8080/",
     "height": 79
    },
    "colab_type": "code",
    "id": "UEZVoT8IVbM8",
    "outputId": "31fdfb8e-67f1-46e8-b5ad-3ef957c2c145",
    "papermill": {
     "duration": 1376.067807,
     "end_time": "2019-09-11T15:15:30.958737",
     "exception": false,
     "start_time": "2019-09-11T14:52:34.890930",
     "status": "completed"
    },
    "tags": []
   },
   "outputs": [
    {
     "data": {
      "text/html": [
       "<table border=\"1\" class=\"dataframe\">\n",
       "  <thead>\n",
       "    <tr style=\"text-align: left;\">\n",
       "      <th>epoch</th>\n",
       "      <th>train_loss</th>\n",
       "      <th>valid_loss</th>\n",
       "      <th>accuracy</th>\n",
       "      <th>time</th>\n",
       "    </tr>\n",
       "  </thead>\n",
       "  <tbody>\n",
       "    <tr>\n",
       "      <td>0</td>\n",
       "      <td>0.806669</td>\n",
       "      <td>0.728497</td>\n",
       "      <td>0.847028</td>\n",
       "      <td>09:59</td>\n",
       "    </tr>\n",
       "  </tbody>\n",
       "</table>"
      ],
      "text/plain": [
       "<IPython.core.display.HTML object>"
      ]
     },
     "metadata": {
      "tags": []
     },
     "output_type": "display_data"
    }
   ],
   "source": [
    "learn.fit_one_cycle(1, slice(8e-3/(2.6), 8e-3), moms=(0.8, 0.7))"
   ]
  },
  {
   "cell_type": "code",
   "execution_count": 0,
   "metadata": {
    "colab": {},
    "colab_type": "code",
    "id": "rhuTOXCBVbM9",
    "papermill": {
     "duration": 19.614272,
     "end_time": "2019-09-11T15:16:09.850581",
     "exception": false,
     "start_time": "2019-09-11T15:15:50.236309",
     "status": "completed"
    },
    "tags": []
   },
   "outputs": [],
   "source": [
    "learn.save('class_fit_top2SP')"
   ]
  },
  {
   "cell_type": "code",
   "execution_count": 0,
   "metadata": {
    "colab": {},
    "colab_type": "code",
    "id": "0-n3qILFVbM-",
    "papermill": {
     "duration": 19.68686,
     "end_time": "2019-09-11T15:16:49.139724",
     "exception": false,
     "start_time": "2019-09-11T15:16:29.452864",
     "status": "completed"
    },
    "tags": []
   },
   "outputs": [],
   "source": [
    "learn.load('class_fit_top2SP');"
   ]
  },
  {
   "cell_type": "code",
   "execution_count": 0,
   "metadata": {
    "colab": {},
    "colab_type": "code",
    "id": "mkhWSkDPLtna"
   },
   "outputs": [],
   "source": [
    "learn.unfreeze()"
   ]
  },
  {
   "cell_type": "code",
   "execution_count": 0,
   "metadata": {
    "colab": {},
    "colab_type": "code",
    "id": "zl_lSSwSL7BV"
   },
   "outputs": [],
   "source": [
    "# learn.lr_find()\n",
    "# learn.recorder.plot(skip_end=20, skip_start=20, suggestion=True)"
   ]
  },
  {
   "cell_type": "code",
   "execution_count": null,
   "metadata": {
    "colab": {
     "base_uri": "https://localhost:8080/",
     "height": 171
    },
    "colab_type": "code",
    "id": "0uIF0I9fVbNM",
    "outputId": "b5881e88-e97d-48b8-e439-e7358abb1fe9",
    "papermill": {
     "duration": 11812.945881,
     "end_time": "2019-09-11T18:41:21.006008",
     "exception": false,
     "start_time": "2019-09-11T15:24:28.060127",
     "status": "completed"
    },
    "tags": []
   },
   "outputs": [],
   "source": [
    "learn.fit_one_cycle(\n",
    "    3, slice(8e-4/(2.6), 8e-4), moms=(0.8, 0.7), \n",
    "    #callbacks=[SaveModelCallback(learn, every='epoch', monitor='accuracy', name='class_fit_full'), PrintingCallback()]\n",
    ")"
   ]
  },
  {
   "cell_type": "code",
   "execution_count": 0,
   "metadata": {
    "colab": {},
    "colab_type": "code",
    "id": "022Y6EA4VbNO",
    "papermill": {
     "duration": 22.750396,
     "end_time": "2019-09-11T18:42:04.965812",
     "exception": false,
     "start_time": "2019-09-11T18:41:42.215416",
     "status": "completed"
    },
    "tags": []
   },
   "outputs": [],
   "source": [
    "learn.save('class_fit_fullSP')"
   ]
  },
  {
   "cell_type": "code",
   "execution_count": 0,
   "metadata": {
    "colab": {},
    "colab_type": "code",
    "id": "bqVpUXbcLa-j"
   },
   "outputs": [],
   "source": [
    "learn.load('class_fit_fullSP');"
   ]
  },
  {
   "cell_type": "markdown",
   "metadata": {
    "colab_type": "text",
    "id": "r0tqRLciUzaE",
    "papermill": {
     "duration": null,
     "end_time": null,
     "exception": null,
     "start_time": null,
     "status": "pending"
    },
    "tags": []
   },
   "source": [
    "## Make submission"
   ]
  },
  {
   "cell_type": "markdown",
   "metadata": {
    "colab_type": "text",
    "id": "3_-9lsbMUzaG",
    "papermill": {
     "duration": null,
     "end_time": null,
     "exception": null,
     "start_time": null,
     "status": "pending"
    },
    "tags": []
   },
   "source": [
    "### Validation Balanced Accuracy"
   ]
  },
  {
   "cell_type": "code",
   "execution_count": 0,
   "metadata": {
    "colab": {},
    "colab_type": "code",
    "id": "oPFOApxvUzaG",
    "papermill": {
     "duration": null,
     "end_time": null,
     "exception": null,
     "start_time": null,
     "status": "pending"
    },
    "tags": []
   },
   "outputs": [],
   "source": [
    "from sklearn.metrics import balanced_accuracy_score\n",
    "\n",
    "probs = learn.get_preds(ds_type=DatasetType.Valid)\n",
    "pred_indices = torch.argmax(probs[0], dim=1)\n",
    "preds_clas = [data_clas.classes[pred] for pred in pred_indices]"
   ]
  },
  {
   "cell_type": "code",
   "execution_count": 0,
   "metadata": {
    "colab": {},
    "colab_type": "code",
    "id": "lBimJ8nwUzaI",
    "papermill": {
     "duration": null,
     "end_time": null,
     "exception": null,
     "start_time": null,
     "status": "pending"
    },
    "tags": []
   },
   "outputs": [],
   "source": [
    "true = [data_clas.classes[i] for i in probs[1].detach().numpy()]"
   ]
  },
  {
   "cell_type": "markdown",
   "metadata": {
    "colab_type": "text",
    "id": "QQp4cub5xea4"
   },
   "source": [
    "Note: here we are calculating the balanced accuracy over both *reliable* and *unreliable* items, but the test set only contains *reliable* items.\n"
   ]
  },
  {
   "cell_type": "code",
   "execution_count": 0,
   "metadata": {
    "colab": {
     "base_uri": "https://localhost:8080/",
     "height": 35
    },
    "colab_type": "code",
    "id": "sc-1yuwxzYge",
    "outputId": "76fbce8c-b413-4d23-fe15-892ed31e1adc",
    "papermill": {
     "duration": null,
     "end_time": null,
     "exception": null,
     "start_time": null,
     "status": "pending"
    },
    "tags": []
   },
   "outputs": [
    {
     "data": {
      "text/plain": [
       "0.8545726018106596"
      ]
     },
     "execution_count": 35,
     "metadata": {
      "tags": []
     },
     "output_type": "execute_result"
    }
   ],
   "source": [
    "balanced_accuracy_score(true, preds_clas)"
   ]
  },
  {
   "cell_type": "code",
   "execution_count": 0,
   "metadata": {
    "colab": {
     "base_uri": "https://localhost:8080/",
     "height": 85
    },
    "colab_type": "code",
    "id": "WZkwJKtSDHHR",
    "outputId": "bde44b6b-8df9-435a-8815-ef7a247eb166"
   },
   "outputs": [
    {
     "data": {
      "text/plain": [
       "(Category CLASSIC_CARS,\n",
       " tensor(336),\n",
       " tensor([6.7881e-08, 9.8600e-08, 9.0583e-06,  ..., 1.0045e-05, 1.6540e-09,\n",
       "         8.3562e-08]))"
      ]
     },
     "execution_count": 37,
     "metadata": {
      "tags": []
     },
     "output_type": "execute_result"
    }
   ],
   "source": [
    "learn.predict('mercedes benz a ')"
   ]
  },
  {
   "cell_type": "markdown",
   "metadata": {
    "colab_type": "text",
    "id": "rvZG3aOKUzaM",
    "papermill": {
     "duration": null,
     "end_time": null,
     "exception": null,
     "start_time": null,
     "status": "pending"
    },
    "tags": []
   },
   "source": [
    "### Generate Submission"
   ]
  },
  {
   "cell_type": "code",
   "execution_count": 0,
   "metadata": {
    "colab": {},
    "colab_type": "code",
    "id": "et9M8gkVUzaM",
    "papermill": {
     "duration": null,
     "end_time": null,
     "exception": null,
     "start_time": null,
     "status": "pending"
    },
    "tags": []
   },
   "outputs": [],
   "source": [
    "df = pd.read_csv('test_clean.csv')"
   ]
  },
  {
   "cell_type": "code",
   "execution_count": 0,
   "metadata": {
    "colab": {},
    "colab_type": "code",
    "id": "k72oFK2qUzaO",
    "papermill": {
     "duration": null,
     "end_time": null,
     "exception": null,
     "start_time": null,
     "status": "pending"
    },
    "tags": []
   },
   "outputs": [],
   "source": [
    "df.pop('language');\n",
    "df.pop('id');"
   ]
  },
  {
   "cell_type": "code",
   "execution_count": 0,
   "metadata": {
    "colab": {
     "base_uri": "https://localhost:8080/",
     "height": 202
    },
    "colab_type": "code",
    "id": "hb_XxvamYQaX",
    "outputId": "6f72fbbc-48e7-475e-c367-b5298ca76ac8"
   },
   "outputs": [
    {
     "data": {
      "text/html": [
       "<div>\n",
       "<style scoped>\n",
       "    .dataframe tbody tr th:only-of-type {\n",
       "        vertical-align: middle;\n",
       "    }\n",
       "\n",
       "    .dataframe tbody tr th {\n",
       "        vertical-align: top;\n",
       "    }\n",
       "\n",
       "    .dataframe thead th {\n",
       "        text-align: right;\n",
       "    }\n",
       "</style>\n",
       "<table border=\"1\" class=\"dataframe\">\n",
       "  <thead>\n",
       "    <tr style=\"text-align: right;\">\n",
       "      <th></th>\n",
       "      <th>title</th>\n",
       "    </tr>\n",
       "  </thead>\n",
       "  <tbody>\n",
       "    <tr>\n",
       "      <th>0</th>\n",
       "      <td>maternidade bolsa mala baby bebe vinho menina kb</td>\n",
       "    </tr>\n",
       "    <tr>\n",
       "      <th>1</th>\n",
       "      <td>trocador fraldas fisher price feminino portatil</td>\n",
       "    </tr>\n",
       "    <tr>\n",
       "      <th>2</th>\n",
       "      <td>motor ventoinha fiat idea palio</td>\n",
       "    </tr>\n",
       "    <tr>\n",
       "      <th>3</th>\n",
       "      <td>amortecedor mola batente dir civic</td>\n",
       "    </tr>\n",
       "    <tr>\n",
       "      <th>4</th>\n",
       "      <td>cadeirinha carro bebe princesa princess kgs</td>\n",
       "    </tr>\n",
       "  </tbody>\n",
       "</table>\n",
       "</div>"
      ],
      "text/plain": [
       "                                              title\n",
       "0  maternidade bolsa mala baby bebe vinho menina kb\n",
       "1   trocador fraldas fisher price feminino portatil\n",
       "2                  motor ventoinha fiat idea palio \n",
       "3               amortecedor mola batente dir civic \n",
       "4       cadeirinha carro bebe princesa princess kgs"
      ]
     },
     "execution_count": 39,
     "metadata": {
      "tags": []
     },
     "output_type": "execute_result"
    }
   ],
   "source": [
    "df.head()"
   ]
  },
  {
   "cell_type": "code",
   "execution_count": 0,
   "metadata": {
    "colab": {},
    "colab_type": "code",
    "id": "9UuOPIHoUzaP",
    "papermill": {
     "duration": null,
     "end_time": null,
     "exception": null,
     "start_time": null,
     "status": "pending"
    },
    "tags": []
   },
   "outputs": [],
   "source": [
    "learn.data.add_test(df, label=None)"
   ]
  },
  {
   "cell_type": "code",
   "execution_count": 0,
   "metadata": {
    "colab": {
     "base_uri": "https://localhost:8080/",
     "height": 355
    },
    "colab_type": "code",
    "id": "EJmPlVskXHdm",
    "outputId": "431cb5c0-4385-4a76-809a-696c6621e6dd"
   },
   "outputs": [
    {
     "data": {
      "text/html": [
       "<table border=\"1\" class=\"dataframe\">\n",
       "  <thead>\n",
       "    <tr style=\"text-align: right;\">\n",
       "      <th>text</th>\n",
       "      <th>target</th>\n",
       "    </tr>\n",
       "  </thead>\n",
       "  <tbody>\n",
       "    <tr>\n",
       "      <td>xxbos maternidade bolsa mala baby bebe vinho menina kb</td>\n",
       "      <td>3D_GLASSES</td>\n",
       "    </tr>\n",
       "    <tr>\n",
       "      <td>xxbos trocador fraldas fisher price feminino portatil</td>\n",
       "      <td>3D_GLASSES</td>\n",
       "    </tr>\n",
       "    <tr>\n",
       "      <td>xxbos motor ventoinha fiat idea palio</td>\n",
       "      <td>3D_GLASSES</td>\n",
       "    </tr>\n",
       "    <tr>\n",
       "      <td>xxbos amortecedor mola batente dir civic</td>\n",
       "      <td>3D_GLASSES</td>\n",
       "    </tr>\n",
       "    <tr>\n",
       "      <td>xxbos cadeirinha carro bebe princesa princess kgs</td>\n",
       "      <td>3D_GLASSES</td>\n",
       "    </tr>\n",
       "    <tr>\n",
       "      <td>xxbos cabo freio mao direito vw up cod</td>\n",
       "      <td>3D_GLASSES</td>\n",
       "    </tr>\n",
       "    <tr>\n",
       "      <td>xxbos pc dell optiplex fx atom ram ssd wifi</td>\n",
       "      <td>3D_GLASSES</td>\n",
       "    </tr>\n",
       "    <tr>\n",
       "      <td>xxbos bi xenon lampada</td>\n",
       "      <td>3D_GLASSES</td>\n",
       "    </tr>\n",
       "    <tr>\n",
       "      <td>xxbos protetor pe botinha kickboxing karate taekwondo competicao</td>\n",
       "      <td>3D_GLASSES</td>\n",
       "    </tr>\n",
       "    <tr>\n",
       "      <td>xxbos disco rigido externo western digital elements tb usb</td>\n",
       "      <td>3D_GLASSES</td>\n",
       "    </tr>\n",
       "  </tbody>\n",
       "</table>"
      ],
      "text/plain": [
       "<IPython.core.display.HTML object>"
      ]
     },
     "metadata": {
      "tags": []
     },
     "output_type": "display_data"
    }
   ],
   "source": [
    "learn.data.show_batch(ds_type=DatasetType.Test, rows=10)"
   ]
  },
  {
   "cell_type": "code",
   "execution_count": 0,
   "metadata": {
    "colab": {},
    "colab_type": "code",
    "id": "alt63EUYUzaR",
    "papermill": {
     "duration": null,
     "end_time": null,
     "exception": null,
     "start_time": null,
     "status": "pending"
    },
    "tags": []
   },
   "outputs": [],
   "source": [
    "probs = learn.get_preds(ds_type=DatasetType.Test)\n",
    "pred_indices = torch.argmax(probs[0], dim=1)\n",
    "preds_clas = [data_clas.classes[pred] for pred in pred_indices]"
   ]
  },
  {
   "cell_type": "code",
   "execution_count": 0,
   "metadata": {
    "colab": {
     "base_uri": "https://localhost:8080/",
     "height": 35
    },
    "colab_type": "code",
    "id": "_q41lHVIUzaT",
    "outputId": "ff75226d-4bbd-4a05-c6c5-9c6de966bbf7",
    "papermill": {
     "duration": null,
     "end_time": null,
     "exception": null,
     "start_time": null,
     "status": "pending"
    },
    "tags": []
   },
   "outputs": [
    {
     "data": {
      "text/plain": [
       "((Text xxbos picadora carne fineschi legitima, EmptyLabel ), 'MEAT_GRINDERS')"
      ]
     },
     "execution_count": 52,
     "metadata": {
      "tags": []
     },
     "output_type": "execute_result"
    }
   ],
   "source": [
    "learn.data.test_ds[10], preds_clas[10]"
   ]
  },
  {
   "cell_type": "code",
   "execution_count": 0,
   "metadata": {
    "colab": {
     "base_uri": "https://localhost:8080/",
     "height": 52
    },
    "colab_type": "code",
    "id": "U-xrB0x1Bmxb",
    "outputId": "c6c24d25-8f18-43c3-9f5f-ee202e9028eb"
   },
   "outputs": [
    {
     "data": {
      "text/plain": [
       "((Text xxbos gorras tycel claritos perforar puro latex, EmptyLabel ),\n",
       " 'HAIRDRESSING_CAPS')"
      ]
     },
     "execution_count": 53,
     "metadata": {
      "tags": []
     },
     "output_type": "execute_result"
    }
   ],
   "source": [
    "learn.data.test_ds[100], preds_clas[100]"
   ]
  },
  {
   "cell_type": "code",
   "execution_count": 0,
   "metadata": {
    "colab": {
     "base_uri": "https://localhost:8080/",
     "height": 52
    },
    "colab_type": "code",
    "id": "kGQppzx_BsC-",
    "outputId": "4994fd1f-7ccb-4d50-a5dd-0a19efc12f02"
   },
   "outputs": [
    {
     "data": {
      "text/plain": [
       "((Text xxbos cepillo planchita alisador peine electrico, EmptyLabel ),\n",
       " 'HAIR_STRAIGHTENING_BRUSHES')"
      ]
     },
     "execution_count": 54,
     "metadata": {
      "tags": []
     },
     "output_type": "execute_result"
    }
   ],
   "source": [
    "learn.data.test_ds[1000], preds_clas[1000]"
   ]
  },
  {
   "cell_type": "code",
   "execution_count": 0,
   "metadata": {
    "colab": {
     "base_uri": "https://localhost:8080/",
     "height": 202
    },
    "colab_type": "code",
    "id": "xZF5AjbRUzac",
    "outputId": "02596eb3-0ea0-4d7b-c0a0-2e4a5eaf5e0e",
    "papermill": {
     "duration": null,
     "end_time": null,
     "exception": null,
     "start_time": null,
     "status": "pending"
    },
    "tags": []
   },
   "outputs": [
    {
     "data": {
      "text/html": [
       "<div>\n",
       "<style scoped>\n",
       "    .dataframe tbody tr th:only-of-type {\n",
       "        vertical-align: middle;\n",
       "    }\n",
       "\n",
       "    .dataframe tbody tr th {\n",
       "        vertical-align: top;\n",
       "    }\n",
       "\n",
       "    .dataframe thead th {\n",
       "        text-align: right;\n",
       "    }\n",
       "</style>\n",
       "<table border=\"1\" class=\"dataframe\">\n",
       "  <thead>\n",
       "    <tr style=\"text-align: right;\">\n",
       "      <th></th>\n",
       "      <th>id</th>\n",
       "      <th>title</th>\n",
       "      <th>language</th>\n",
       "      <th>category</th>\n",
       "    </tr>\n",
       "  </thead>\n",
       "  <tbody>\n",
       "    <tr>\n",
       "      <th>0</th>\n",
       "      <td>0</td>\n",
       "      <td>maternidade bolsa mala baby bebe vinho menina kb</td>\n",
       "      <td>portuguese</td>\n",
       "      <td>DIAPER_BAGS</td>\n",
       "    </tr>\n",
       "    <tr>\n",
       "      <th>1</th>\n",
       "      <td>1</td>\n",
       "      <td>trocador fraldas fisher price feminino portatil</td>\n",
       "      <td>portuguese</td>\n",
       "      <td>BABY_CHANGING_PADS</td>\n",
       "    </tr>\n",
       "    <tr>\n",
       "      <th>2</th>\n",
       "      <td>2</td>\n",
       "      <td>motor ventoinha fiat idea palio</td>\n",
       "      <td>portuguese</td>\n",
       "      <td>ENGINE_COOLING_FAN_MOTORS</td>\n",
       "    </tr>\n",
       "    <tr>\n",
       "      <th>3</th>\n",
       "      <td>3</td>\n",
       "      <td>amortecedor mola batente dir civic</td>\n",
       "      <td>portuguese</td>\n",
       "      <td>SWAY_BARS</td>\n",
       "    </tr>\n",
       "    <tr>\n",
       "      <th>4</th>\n",
       "      <td>4</td>\n",
       "      <td>cadeirinha carro bebe princesa princess kgs</td>\n",
       "      <td>portuguese</td>\n",
       "      <td>BABY_CAR_SEATS</td>\n",
       "    </tr>\n",
       "  </tbody>\n",
       "</table>\n",
       "</div>"
      ],
      "text/plain": [
       "   id  ...                   category\n",
       "0   0  ...                DIAPER_BAGS\n",
       "1   1  ...         BABY_CHANGING_PADS\n",
       "2   2  ...  ENGINE_COOLING_FAN_MOTORS\n",
       "3   3  ...                  SWAY_BARS\n",
       "4   4  ...             BABY_CAR_SEATS\n",
       "\n",
       "[5 rows x 4 columns]"
      ]
     },
     "execution_count": 44,
     "metadata": {
      "tags": []
     },
     "output_type": "execute_result"
    }
   ],
   "source": [
    "df.head(5)"
   ]
  },
  {
   "cell_type": "code",
   "execution_count": 0,
   "metadata": {
    "colab": {},
    "colab_type": "code",
    "id": "xjpNiRToUzae",
    "papermill": {
     "duration": null,
     "end_time": null,
     "exception": null,
     "start_time": null,
     "status": "pending"
    },
    "tags": []
   },
   "outputs": [],
   "source": [
    "#save Spanish model submission\n",
    "df.to_csv('submission_SP.csv', index=False)"
   ]
  },
  {
   "cell_type": "code",
   "execution_count": 0,
   "metadata": {
    "colab": {},
    "colab_type": "code",
    "id": "AJDPmwxpFZnw"
   },
   "outputs": [],
   "source": [
    "!cp submission_SP19.csv gdrive/My\\ Drive/"
   ]
  }
 ],
 "metadata": {
  "accelerator": "GPU",
  "colab": {
   "collapsed_sections": [
    "hBd-gvH_RHEh",
    "rWAfKkhW80Mu",
    "IMKn9aezVrwx"
   ],
   "name": "Copia14 de WorkshopSP.ipynb",
   "provenance": []
  },
  "kernelspec": {
   "display_name": "Python 3",
   "language": "python",
   "name": "python3"
  },
  "language_info": {
   "codemirror_mode": {
    "name": "ipython",
    "version": 3
   },
   "file_extension": ".py",
   "mimetype": "text/x-python",
   "name": "python",
   "nbconvert_exporter": "python",
   "pygments_lexer": "ipython3",
   "version": "3.7.3"
  }
 },
 "nbformat": 4,
 "nbformat_minor": 1
}
